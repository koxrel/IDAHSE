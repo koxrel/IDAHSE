{
 "cells": [
  {
   "cell_type": "markdown",
   "metadata": {},
   "source": [
    "<div style=\"font-size:18pt; padding-top:20px; text-align:center\">ЗАДАНИЕ 3. <b>Корреляция и </b> <span style=\"font-weight:bold; color:green\">NumPy/SciPy</span></div><hr>\n",
    "<div style=\"text-align:right;\">Папулин С.Ю. <span style=\"font-style: italic;font-weight: bold;\">(papulin_hse@mail.ru)</span></div>"
   ]
  },
  {
   "cell_type": "markdown",
   "metadata": {},
   "source": [
    "<a name=\"0\"></a>\n",
    "<div><span style=\"font-size:14pt; font-weight:bold\">Содержание</span>\n",
    "    <ol>\n",
    "        <li><a href=\"#1\">Варианты</a></li>\n",
    "        <li><a href=\"#2\">Задание</a></li>\n",
    "    </ol>\n",
    "</div>"
   ]
  },
  {
   "cell_type": "markdown",
   "metadata": {},
   "source": [
    "<a name=\"1\"></a>\n",
    "<div style=\"display:table; width:100%; padding-top:10px; padding-bottom:10px; border-bottom:1px solid lightgrey\">\n",
    "    <div style=\"display:table-row\">\n",
    "        <div style=\"display:table-cell; width:80%; font-size:14pt; font-weight:bold\">1. Варианты</div>\n",
    "    \t<div style=\"display:table-cell; width:20%; text-align:center; background-color:whitesmoke; border:1px solid lightgrey\"><a href=\"#0\">К содержанию</a></div>\n",
    "    </div>\n",
    "</div>"
   ]
  },
  {
   "cell_type": "markdown",
   "metadata": {},
   "source": [
    "<p><span style=\"color:red; font-weight:bold\">ВНИМАНИЕ!</span> Варианты могут не совпадать с предыдущими ДЗ</p>"
   ]
  },
  {
   "cell_type": "markdown",
   "metadata": {},
   "source": [
    "<p>Чтобы узнать свой вариант, введите Вашу фамилию в соответвующее поле ниже и запустите ячейку:</p>"
   ]
  },
  {
   "cell_type": "code",
   "execution_count": 1,
   "metadata": {
    "collapsed": false
   },
   "outputs": [
    {
     "name": "stdout",
     "output_type": "stream",
     "text": [
      "Ваш вариант -  2\n"
     ]
    }
   ],
   "source": [
    "surname = \"Oops\" #Ваша фамилия\n",
    "\n",
    "alp = 'абвгдеёжзийклмнопрстуфхцчшщъыьэюя'\n",
    "w = [1, 42, 21, 21, 34,  6, 44, 26, 18, 44, 38, 26, 14, 43,  4, 49, 45,\n",
    "        7, 42, 29,  4,  9, 36, 34, 31, 29,  5, 30,  4, 19, 28, 25, 33]\n",
    "d = dict(zip(alp, w))\n",
    "variant =  sum([d[el] for el in surname.lower()]) % 3 + 1\n",
    "print(\"Ваш вариант - \", variant)"
   ]
  },
  {
   "cell_type": "markdown",
   "metadata": {},
   "source": [
    "<a name=\"2\"></a>\n",
    "<div style=\"display:table; width:100%; padding-top:10px; padding-bottom:10px; border-bottom:1px solid lightgrey\">\n",
    "    <div style=\"display:table-row\">\n",
    "        <div style=\"display:table-cell; width:80%; font-size:14pt; font-weight:bold\">2. Задание</div>\n",
    "    \t<div style=\"display:table-cell; width:20%; text-align:center; background-color:whitesmoke; border:1px solid lightgrey\"><a href=\"#0\">К содержанию</a></div>\n",
    "    </div>\n",
    "</div>"
   ]
  },
  {
   "cell_type": "raw",
   "metadata": {
    "collapsed": true
   },
   "source": [
    "Файл с данными grades.csv"
   ]
  },
  {
   "cell_type": "markdown",
   "metadata": {},
   "source": [
    "<p><b><i>Вариант 1</i></b></p>"
   ]
  },
  {
   "cell_type": "raw",
   "metadata": {
    "collapsed": true
   },
   "source": [
    "X - math_SAT (оценка за математическую часть теста SAT (тест для поступления в бакалавриат)\n",
    "Y - univ_GPA (оценка в университете)"
   ]
  },
  {
   "cell_type": "markdown",
   "metadata": {},
   "source": [
    "<p><b><i>Вариант 2</i></b></p>"
   ]
  },
  {
   "cell_type": "raw",
   "metadata": {
    "collapsed": true
   },
   "source": [
    "X - math_SAT\n",
    "Y - verb_SAT (оценка за вербальную часть теста SAT)"
   ]
  },
  {
   "cell_type": "markdown",
   "metadata": {},
   "source": [
    "<p><b><i>Вариант 3</i></b></p>"
   ]
  },
  {
   "cell_type": "raw",
   "metadata": {
    "collapsed": true
   },
   "source": [
    "X - high_GRA (оценка в школе)\n",
    "Y - univ_GRA"
   ]
  },
  {
   "cell_type": "markdown",
   "metadata": {},
   "source": [
    "<p><b>Задача 1.</b> Корреляционная матрица</p>"
   ]
  },
  {
   "cell_type": "markdown",
   "metadata": {},
   "source": [
    "<div>\n",
    "<p>В соответствии с вариантом постройте корреляционную матрицу следующего вида:</p>\n",
    "<table >\n",
    "<tr>\n",
    "<td width=60, bgcolor=\"grey\"></td>\n",
    "<td width=60, bgcolor=\"lightgrey\">$$X$$</td>\n",
    "<td width=60, bgcolor=\"lightgrey\">$$Y$$</td>\n",
    "<td width=60, bgcolor=\"lightgrey\">$$X\\cdot Y$$</td>\n",
    "<td width=60, bgcolor=\"lightgrey\">$$X/Y$$</td>\n",
    "<td width=60, bgcolor=\"lightgrey\">$$X-Y$$</td>\n",
    "<tr>\n",
    "<tr>\n",
    "<td width=60, bgcolor=\"lightgrey\">$$X$$</td>\n",
    "<td width=60>$$r_{X,X}$$</td>\n",
    "<td width=60>$$r_{X,Y}$$</td>\n",
    "<td width=60>$$r_{X,X\\cdot Y}$$</td>\n",
    "<td width=60>$$r_{X,X/Y}$$</td>\n",
    "<td width=60>$$r_{X,X-Y}$$</td>\n",
    "<tr>\n",
    "<tr>\n",
    "<td width=60, bgcolor=\"lightgrey\">$$Y$$</td>\n",
    "<td width=60>$$r_{Y,X}$$</td>\n",
    "<td width=60>$$r_{Y,Y}$$</td>\n",
    "<td width=60>$$r_{Y,X\\cdot Y}$$</td>\n",
    "<td width=60>$$r_{Y,X/Y}$$</td>\n",
    "<td width=60>$$r_{Y,X-Y}$$</td>\n",
    "<tr>\n",
    "<tr>\n",
    "<td width=60, bgcolor=\"lightgrey\">$$X\\cdot Y$$</td>\n",
    "<td width=60>$$r_{X\\cdot Y,X}$$</td>\n",
    "<td width=60>$$r_{X\\cdot Y,Y}$$</td>\n",
    "<td width=60>$$r_{X\\cdot Y,X\\cdot Y}$$</td>\n",
    "<td width=60>$$r_{X\\cdot Y,X/Y}$$</td>\n",
    "<td width=60>$$r_{X\\cdot Y,X-Y}$$</td>\n",
    "<tr>\n",
    "<tr>\n",
    "<td width=60, bgcolor=\"lightgrey\">$$X/Y$$</td>\n",
    "<td width=60>$$r_{X/Y,X}$$</td>\n",
    "<td width=60>$$r_{X/Y,Y}$$</td>\n",
    "<td width=60>$$r_{X/Y,X\\cdot Y}$$</td>\n",
    "<td width=60>$$r_{X/Y,X/Y}$$</td>\n",
    "<td width=60>$$r_{X/Y,X-Y}$$</td>\n",
    "<tr>\n",
    "<tr>\n",
    "<td width=60, bgcolor=\"lightgrey\">$$X-Y$$</td>\n",
    "<td width=60>$$r_{X-Y,X}$$</td>\n",
    "<td width=60>$$r_{X-Y,Y}$$</td>\n",
    "<td width=60>$$r_{X-Y,X\\cdot Y}$$</td>\n",
    "<td width=60>$$r_{X-Y,X/Y}$$</td>\n",
    "<td width=60>$$r_{X-Y,X-Y}$$</td>\n",
    "<tr>\n",
    "</table>\n",
    "</div>"
   ]
  },
  {
   "cell_type": "markdown",
   "metadata": {},
   "source": [
    "<p><i>Подгружаем нужные пакеты:</i></p>"
   ]
  },
  {
   "cell_type": "code",
   "execution_count": 2,
   "metadata": {
    "collapsed": false
   },
   "outputs": [],
   "source": [
    "import pandas as pd\n",
    "from scipy import stats\n",
    "import matplotlib.pyplot as plt\n",
    "%matplotlib inline"
   ]
  },
  {
   "cell_type": "markdown",
   "metadata": {},
   "source": [
    "<p><i>Считываем CSV-файл (так как в нем изначально нет разделителей):</i></p>"
   ]
  },
  {
   "cell_type": "code",
   "execution_count": 3,
   "metadata": {
    "collapsed": false
   },
   "outputs": [],
   "source": [
    "headers = []\n",
    "nums = []\n",
    "with open('grades.csv', 'r') as file_grades:\n",
    "    headers = file_grades.readline().split()\n",
    "    for line in file_grades:\n",
    "        nums.append([float(num) for num in line.split()])"
   ]
  },
  {
   "cell_type": "markdown",
   "metadata": {},
   "source": [
    "<p><i>Создаем таблицу с нужными данными и результирующую матрицу:</i></p>"
   ]
  },
  {
   "cell_type": "code",
   "execution_count": 4,
   "metadata": {
    "collapsed": false,
    "scrolled": false
   },
   "outputs": [],
   "source": [
    "df_grades=pd.DataFrame(data=nums, columns=headers)\n",
    "df_matrix = pd.DataFrame(index=['$$X$$', '$$Y$$', '$$X\\cdot Y$$', '$$X/Y$$', '$$X-Y$$'], \n",
    "                         columns=['$$X$$', '$$Y$$', '$$X\\cdot Y$$', '$$X/Y$$', '$$X-Y$$'])"
   ]
  },
  {
   "cell_type": "markdown",
   "metadata": {},
   "source": [
    "<p><i>Делаем предварительные расчеты (для экономии процессорного времени):</i></p>"
   ]
  },
  {
   "cell_type": "code",
   "execution_count": 5,
   "metadata": {
    "collapsed": false
   },
   "outputs": [],
   "source": [
    "x = df_grades['math_SAT']\n",
    "y = df_grades['verb_SAT']\n",
    "x_mul_y = x*y\n",
    "x_div_y = x/y\n",
    "x_min_y = x-y"
   ]
  },
  {
   "cell_type": "markdown",
   "metadata": {},
   "source": [
    "<p><i>Считаем коэффициент Пирсона для каждого ряда:</i></p>"
   ]
  },
  {
   "cell_type": "code",
   "execution_count": 6,
   "metadata": {
    "collapsed": false
   },
   "outputs": [
    {
     "data": {
      "text/html": [
       "<div>\n",
       "<table border=\"1\" class=\"dataframe\">\n",
       "  <thead>\n",
       "    <tr style=\"text-align: right;\">\n",
       "      <th></th>\n",
       "      <th>$$X$$</th>\n",
       "      <th>$$Y$$</th>\n",
       "      <th>$$X\\cdot Y$$</th>\n",
       "      <th>$$X/Y$$</th>\n",
       "      <th>$$X-Y$$</th>\n",
       "    </tr>\n",
       "  </thead>\n",
       "  <tbody>\n",
       "    <tr>\n",
       "      <th>$$X$$</th>\n",
       "      <td>1</td>\n",
       "      <td>0.835227</td>\n",
       "      <td>0.948043</td>\n",
       "      <td>-0.0269241</td>\n",
       "      <td>0.0338168</td>\n",
       "    </tr>\n",
       "    <tr>\n",
       "      <th>$$Y$$</th>\n",
       "      <td>0.835227</td>\n",
       "      <td>1</td>\n",
       "      <td>0.965191</td>\n",
       "      <td>-0.56945</td>\n",
       "      <td>-0.521346</td>\n",
       "    </tr>\n",
       "    <tr>\n",
       "      <th>$$X\\cdot Y$$</th>\n",
       "      <td>0.948043</td>\n",
       "      <td>0.965191</td>\n",
       "      <td>1</td>\n",
       "      <td>-0.337251</td>\n",
       "      <td>-0.283014</td>\n",
       "    </tr>\n",
       "    <tr>\n",
       "      <th>$$X/Y$$</th>\n",
       "      <td>-0.0269241</td>\n",
       "      <td>-0.56945</td>\n",
       "      <td>-0.337251</td>\n",
       "      <td>1</td>\n",
       "      <td>0.99317</td>\n",
       "    </tr>\n",
       "    <tr>\n",
       "      <th>$$X-Y$$</th>\n",
       "      <td>0.0338168</td>\n",
       "      <td>-0.521346</td>\n",
       "      <td>-0.283014</td>\n",
       "      <td>0.99317</td>\n",
       "      <td>1</td>\n",
       "    </tr>\n",
       "  </tbody>\n",
       "</table>\n",
       "</div>"
      ],
      "text/plain": [
       "                  $$X$$     $$Y$$ $$X\\cdot Y$$    $$X/Y$$    $$X-Y$$\n",
       "$$X$$                 1  0.835227     0.948043 -0.0269241  0.0338168\n",
       "$$Y$$          0.835227         1     0.965191   -0.56945  -0.521346\n",
       "$$X\\cdot Y$$   0.948043  0.965191            1  -0.337251  -0.283014\n",
       "$$X/Y$$      -0.0269241  -0.56945    -0.337251          1    0.99317\n",
       "$$X-Y$$       0.0338168 -0.521346    -0.283014    0.99317          1"
      ]
     },
     "execution_count": 6,
     "metadata": {},
     "output_type": "execute_result"
    }
   ],
   "source": [
    "values_1 = []\n",
    "values_1.append(stats.pearsonr(x, x)[0])\n",
    "values_1.append(stats.pearsonr(x, y)[0])\n",
    "values_1.append(stats.pearsonr(x, x_mul_y)[0])\n",
    "values_1.append(stats.pearsonr(x, x_div_y)[0])\n",
    "values_1.append(stats.pearsonr(x, x_min_y)[0])\n",
    "df_matrix.loc['$$X$$'] = values_1\n",
    "\n",
    "values_2 = []\n",
    "values_2.append(stats.pearsonr(y, x)[0])\n",
    "values_2.append(stats.pearsonr(y, y)[0])\n",
    "values_2.append(stats.pearsonr(y, x_mul_y)[0])\n",
    "values_2.append(stats.pearsonr(y, x_div_y)[0])\n",
    "values_2.append(stats.pearsonr(y, x_min_y)[0])\n",
    "df_matrix.loc['$$Y$$'] = values_2\n",
    "\n",
    "values_3 = []\n",
    "values_3.append(stats.pearsonr(x_mul_y, x)[0])\n",
    "values_3.append(stats.pearsonr(x_mul_y, y)[0])\n",
    "values_3.append(stats.pearsonr(x_mul_y, x_mul_y)[0])\n",
    "values_3.append(stats.pearsonr(x_mul_y, x_div_y)[0])\n",
    "values_3.append(stats.pearsonr(x_mul_y, x_min_y)[0])\n",
    "df_matrix.loc['$$X\\cdot Y$$'] = values_3\n",
    "\n",
    "values_4 = []\n",
    "values_4.append(stats.pearsonr(x_div_y, x)[0])\n",
    "values_4.append(stats.pearsonr(x_div_y, y)[0])\n",
    "values_4.append(stats.pearsonr(x_div_y, x_mul_y)[0])\n",
    "values_4.append(stats.pearsonr(x_div_y, x_div_y)[0])\n",
    "values_4.append(stats.pearsonr(x_div_y, x_min_y)[0])\n",
    "df_matrix.loc['$$X/Y$$'] = values_4\n",
    "\n",
    "values_5 = []\n",
    "values_5.append(stats.pearsonr(x_min_y, x)[0])\n",
    "values_5.append(stats.pearsonr(x_min_y, y)[0])\n",
    "values_5.append(stats.pearsonr(x_min_y, x_mul_y)[0])\n",
    "values_5.append(stats.pearsonr(x_min_y, x_div_y)[0])\n",
    "values_5.append(stats.pearsonr(x_min_y, x_min_y)[0])\n",
    "df_matrix.loc['$$X-Y$$'] = values_5\n",
    "\n",
    "df_matrix"
   ]
  },
  {
   "cell_type": "markdown",
   "metadata": {},
   "source": [
    "<p><b>Задача 2.</b> Графики</p>"
   ]
  },
  {
   "cell_type": "markdown",
   "metadata": {},
   "source": [
    "<p>Постройте графики в виде матрицы 2x2 для $(X,Y)$, $(X,X\\cdot Y)$, $(X,X/Y)$ и $(X,X-Y)$. Добавьте в них прямые регрессии для каждого сочетания. Укажите каждого графика его название по сочетанию (X,Y и др.), а в легенде, какие данные он содержит.</p>"
   ]
  },
  {
   "cell_type": "markdown",
   "metadata": {},
   "source": [
    "<p>Наклон и пересечение для прямых можно определить следующим образом:</p>"
   ]
  },
  {
   "cell_type": "raw",
   "metadata": {},
   "source": [
    "slope, intercept, r, p_value, std_err = stats.linregress(<X>, <Y>y)\n",
    "print(slope, intercept)"
   ]
  },
  {
   "cell_type": "markdown",
   "metadata": {},
   "source": [
    "<p><i>Функция, возвращающая значение, которое соответствует значению value на регрессионной прямой:</i></p>"
   ]
  },
  {
   "cell_type": "code",
   "execution_count": 7,
   "metadata": {
    "collapsed": true
   },
   "outputs": [],
   "source": [
    "def regr_line(value, coef, intercept):\n",
    "    return value*coef+intercept"
   ]
  },
  {
   "cell_type": "markdown",
   "metadata": {},
   "source": [
    "<p><i>Функция, возвращающая точку перечения с осью Y и наклон регрессионной прямой:</i></p>"
   ]
  },
  {
   "cell_type": "code",
   "execution_count": 8,
   "metadata": {
    "collapsed": true
   },
   "outputs": [],
   "source": [
    "def regr_parameters(set_1, set_2):\n",
    "    slope, intercept, r, p_value, std_err = stats.linregress(set_1, set_2)\n",
    "    return slope, intercept"
   ]
  },
  {
   "cell_type": "markdown",
   "metadata": {},
   "source": [
    "<p><i>Разделяем на 4 части, строим график на каждой из них:</i></p>"
   ]
  },
  {
   "cell_type": "code",
   "execution_count": 9,
   "metadata": {
    "collapsed": false
   },
   "outputs": [
    {
     "data": {
      "image/png": "[encoded data removed]",
      "text/plain": [
       "<matplotlib.figure.Figure at 0x18f20c5ef60>"
      ]
     },
     "metadata": {},
     "output_type": "display_data"
    }
   ],
   "source": [
    "plt.figure(1, figsize=[15, 9])\n",
    "gs = plt.GridSpec(2,2)\n",
    "\n",
    "plt.subplot(gs[0,0])\n",
    "plt.title(\"(X, Y)\")\n",
    "slope, intercept = regr_parameters(x, y)\n",
    "dots = plt.plot(x, y, 'o', label=\"Initial data\")\n",
    "line = plt.plot(x, regr_line(x, slope, intercept), color='red', lw=2, label=\"Regression line\")\n",
    "plt.legend([\"Initial data\", \"Regression line\"], loc=4)\n",
    "\n",
    "plt.subplot(gs[0,1])\n",
    "plt.title(\"(X, X*Y)\")\n",
    "slope, intercept = regr_parameters(x, x_mul_y)\n",
    "dots = plt.plot(x, x_mul_y, 'o', label=\"Initial data\")\n",
    "line = plt.plot(x, regr_line(x, slope, intercept), color='red', lw=2, label=\"Regression line\")\n",
    "plt.legend([\"Initial data\", \"Regression line\"], loc=4)\n",
    "\n",
    "plt.subplot(gs[1,0])\n",
    "plt.title(\"(X, X/Y)\")\n",
    "slope, intercept = regr_parameters(x, x_div_y)\n",
    "dots = plt.plot(x, x_div_y, 'o', label=\"Initial data\")\n",
    "line = plt.plot(x, regr_line(x, slope, intercept), color='red', lw=2, label=\"Regression line\")\n",
    "plt.legend([\"Initial data\", \"Regression line\"], loc=0)\n",
    "\n",
    "plt.subplot(gs[1,1])\n",
    "plt.title(\"(X, X-Y)\")\n",
    "slope, intercept = regr_parameters(x, x_min_y)\n",
    "dots = plt.plot(x, x_min_y, 'o', label=\"Initial data\")\n",
    "line = plt.plot(x, regr_line(x, slope, intercept), color='red', lw=2, label=\"Regression line\")\n",
    "plt.legend([\"Initial data\", \"Regression line\"], loc=1)\n",
    "\n",
    "plt.show()"
   ]
  }
 ],
 "metadata": {
  "kernelspec": {
   "display_name": "Python 3",
   "language": "python",
   "name": "python3"
  },
  "language_info": {
   "codemirror_mode": {
    "name": "ipython",
    "version": 3
   },
   "file_extension": ".py",
   "mimetype": "text/x-python",
   "name": "python",
   "nbconvert_exporter": "python",
   "pygments_lexer": "ipython3",
   "version": "3.5.1"
  }
 },
 "nbformat": 4,
 "nbformat_minor": 0
}
