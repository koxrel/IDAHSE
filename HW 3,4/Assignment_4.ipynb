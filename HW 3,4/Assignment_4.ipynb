{
 "cells": [
  {
   "cell_type": "markdown",
   "metadata": {},
   "source": [
    "<div style=\"font-size:18pt; padding-top:20px; text-align:center\">ЗАДАНИЕ 4. <b>Статистика и </b> <span style=\"font-weight:bold; color:green\">NumPy/SciPy</span></div><hr>\n",
    "<div style=\"text-align:right;\">Папулин С.Ю. <span style=\"font-style: italic;font-weight: bold;\">(papulin_hse@mail.ru)</span></div>"
   ]
  },
  {
   "cell_type": "markdown",
   "metadata": {},
   "source": [
    "<a name=\"0\"></a>\n",
    "<div><span style=\"font-size:14pt; font-weight:bold\">Содержание</span>\n",
    "    <ol>\n",
    "        <li><a href=\"#1\">Варианты</a></li>\n",
    "        <li><a href=\"#2\">Задание</a></li>\n",
    "    </ol>\n",
    "</div>"
   ]
  },
  {
   "cell_type": "markdown",
   "metadata": {},
   "source": [
    "<a name=\"1\"></a>\n",
    "<div style=\"display:table; width:100%; padding-top:10px; padding-bottom:10px; border-bottom:1px solid lightgrey\">\n",
    "    <div style=\"display:table-row\">\n",
    "        <div style=\"display:table-cell; width:80%; font-size:14pt; font-weight:bold\">1. Варианты</div>\n",
    "    \t<div style=\"display:table-cell; width:20%; text-align:center; background-color:whitesmoke; border:1px solid lightgrey\"><a href=\"#0\">К содержанию</a></div>\n",
    "    </div>\n",
    "</div>"
   ]
  },
  {
   "cell_type": "markdown",
   "metadata": {},
   "source": [
    "<p><span style=\"color:red; font-weight:bold\">ВНИМАНИЕ!</span> Варианты могут не совпадать с предыдущими ДЗ</p>"
   ]
  },
  {
   "cell_type": "markdown",
   "metadata": {},
   "source": [
    "<p>Чтобы узнать свой вариант, введите Вашу фамилию в соответвующее поле ниже и запустите ячейку:</p>"
   ]
  },
  {
   "cell_type": "code",
   "execution_count": 2,
   "metadata": {
    "collapsed": false
   },
   "outputs": [
    {
     "name": "stdout",
     "output_type": "stream",
     "text": [
      "Ваш вариант -  2\n"
     ]
    }
   ],
   "source": [
    "surname = \"Oops\" #Ваша фамилия\n",
    "\n",
    "alp = 'абвгдеёжзийклмнопрстуфхцчшщъыьэюя'\n",
    "w = [1, 42, 21, 21, 34,  6, 44, 26, 18, 44, 38, 26, 14, 43,  4, 49, 45,\n",
    "        7, 42, 29,  4,  9, 36, 34, 31, 29,  5, 30,  4, 19, 28, 25, 33]\n",
    "d = dict(zip(alp, w))\n",
    "variant =  sum([d[el] for el in surname.lower()]) % 3 + 1\n",
    "print(\"Ваш вариант - \", variant)"
   ]
  },
  {
   "cell_type": "markdown",
   "metadata": {},
   "source": [
    "<a name=\"2\"></a>\n",
    "<div style=\"display:table; width:100%; padding-top:10px; padding-bottom:10px; border-bottom:1px solid lightgrey\">\n",
    "    <div style=\"display:table-row\">\n",
    "        <div style=\"display:table-cell; width:80%; font-size:14pt; font-weight:bold\">2. Задание</div>\n",
    "    \t<div style=\"display:table-cell; width:20%; text-align:center; background-color:whitesmoke; border:1px solid lightgrey\"><a href=\"#0\">К содержанию</a></div>\n",
    "    </div>\n",
    "</div>"
   ]
  },
  {
   "cell_type": "markdown",
   "metadata": {},
   "source": [
    "<p><b>Задача 1.</b> Доверительный интервал</p>"
   ]
  },
  {
   "cell_type": "markdown",
   "metadata": {},
   "source": [
    "<p>После присоединения Криптона было решено оценить в рублях среднюю стоимость бензина в его административном центре. Для этого случайно выбрали 50 заправок (далее - АЗС) из 1000 (значения приведены в файле oil_price_Krypton.csv). Определить с уверенностью в 95% границы, в которых заключено среднее значение стоимости бензина в административном центре, т.е. построить 95% доверительный интерал для средней цены на бензин? Постройте график по данным выборки с доверительным интервалом.</p>"
   ]
  },
  {
   "cell_type": "markdown",
   "metadata": {},
   "source": [
    "<p><i>Подготовка (изменен шрифт для matplotlib для отображения русских букв):</i></p>"
   ]
  },
  {
   "cell_type": "code",
   "execution_count": 3,
   "metadata": {
    "collapsed": true
   },
   "outputs": [],
   "source": [
    "import pandas as pd\n",
    "from math import sqrt\n",
    "from scipy import stats\n",
    "import numpy as np\n",
    "import matplotlib.pyplot as plt\n",
    "from matplotlib import rc\n",
    "rc('font',family='Verdana')\n",
    "%matplotlib inline"
   ]
  },
  {
   "cell_type": "markdown",
   "metadata": {},
   "source": [
    "<p><i>Вычисляем отклонение, затем правую/левую границы интервала:</i></p>"
   ]
  },
  {
   "cell_type": "code",
   "execution_count": 4,
   "metadata": {
    "collapsed": false
   },
   "outputs": [],
   "source": [
    "df_prices = pd.read_csv('oil_price_Krypton.csv')\n",
    "alpha = 0.95\n",
    "se = sqrt(df_prices.var(ddof=0)/df_prices.count())\n",
    "z = np.around(stats.norm.ppf(0.5+alpha/2), decimals=2)\n",
    "mean = float(df_prices.mean())\n",
    "left_eval = mean-z*se\n",
    "right_eval = mean+z*se"
   ]
  },
  {
   "cell_type": "markdown",
   "metadata": {},
   "source": [
    "<p><i>Графически строим доверительный интервал:</i></p>"
   ]
  },
  {
   "cell_type": "code",
   "execution_count": 5,
   "metadata": {
    "collapsed": false
   },
   "outputs": [
    {
     "data": {
      "image/png": "[encoded data removed]",
      "text/plain": [
       "<matplotlib.figure.Figure at 0x249876c4cf8>"
      ]
     },
     "metadata": {},
     "output_type": "display_data"
    }
   ],
   "source": [
    "#Предварительные параметры\n",
    "plt.figure(1, figsize=[18,4])\n",
    "plt.xlim(83, 128)\n",
    "plt.axes().get_yaxis().set_visible(False)\n",
    "\n",
    "#Указываем значения\n",
    "plt.axvline(right_eval, color=\"green\", linestyle=\"--\")\n",
    "plt.axvline(left_eval, color=\"green\", linestyle=\"--\")\n",
    "plt.axvline(mean, color=\"b\", linestyle=\"-\")\n",
    "plt.plot(df_prices, df_prices.index, 'o')\n",
    "\n",
    "#Наводим красоту (закрашиваем обоасти)\n",
    "plt.axvspan(83, left_eval, color='r', alpha=0.2, lw=0)\n",
    "plt.axvspan(right_eval, 128, color='r', alpha=0.2, lw=0)\n",
    "plt.axvspan(right_eval, left_eval, color='g', alpha=0.2, lw=0)\n",
    "\n",
    "#Обозначения\n",
    "plt.title('Доверительный интервал')\n",
    "plt.legend(['Граница значений слева - %f'%left_eval, 'Граница значений справа - %f'%right_eval, 'Значение выборки - %f'%mean],\n",
    "           loc=0)\n",
    "\n",
    "plt.show()"
   ]
  },
  {
   "cell_type": "markdown",
   "metadata": {},
   "source": [
    "<p><b>Задача 2.</b> Гипотеза</p>"
   ]
  },
  {
   "cell_type": "markdown",
   "metadata": {},
   "source": [
    "<p>Решить двумя способами, как показано в Class_6_Examples_CI_Hyp.ipnb, т.е. самостоятельно по формулам и с использованием stats.ttest</p>"
   ]
  },
  {
   "cell_type": "markdown",
   "metadata": {},
   "source": [
    "<p><b><i>Вариант 1</i></b></p>"
   ]
  },
  {
   "cell_type": "markdown",
   "metadata": {},
   "source": [
    "<p>До присоединения Криптона в его административном центре средняя цена бензина в переводе на рубли была 90 рублей. Используя данные предыдущей выборки (значения приведены в файле oil_price_Krypton.csv), изменилась ли средняя цена после, т.е. постройте и оцените нулевую гипотезу при уровне значимости 0.05? Постройте график по данным выборки с указанием p-value и уровня значимости.</p>"
   ]
  },
  {
   "cell_type": "code",
   "execution_count": 6,
   "metadata": {
    "collapsed": true
   },
   "outputs": [],
   "source": [
    "#Ваш код"
   ]
  },
  {
   "cell_type": "markdown",
   "metadata": {},
   "source": [
    "<p><b><i>Вариант 2</i></b></p>"
   ]
  },
  {
   "cell_type": "markdown",
   "metadata": {},
   "source": [
    "<p>В административном центре Криптона функционируют АЗС двух компнаний. Было решено оценить отличаются ли средние цены на бензин у этих компаний. Для этого случайно выбраны 50 территориальных единиц из 500, в которых присутвуют АЗС двух компаний (значения приведены в файле oil_price_two_companies.csv). Используя данные выборок, постройте и оцените нулевую гипотезу при уровне значимости 0.05? Постройте график по данным выборки с указанием p-value и уровня значимости.</p>   "
   ]
  },
  {
   "cell_type": "markdown",
   "metadata": {
    "collapsed": true
   },
   "source": [
    "<p><i>Предварительные расчеты параметров выборки:</i></p>"
   ]
  },
  {
   "cell_type": "code",
   "execution_count": 7,
   "metadata": {
    "collapsed": false
   },
   "outputs": [],
   "source": [
    "alpha = 0.05\n",
    "\n",
    "df_prices_two = pd.read_csv('oil_price_two_companies.csv')\n",
    "company_1 = df_prices_two['OilPrice_Company_1']\n",
    "company_2 = df_prices_two['OilPrice_Company_2']\n",
    "mean_1, std_1, n_1 = company_1.mean(), company_1.std(ddof=1), company_1.count()\n",
    "mean_2, std_2, n_2 = company_2.mean(), company_2.std(ddof=1), company_2.count()"
   ]
  },
  {
   "cell_type": "markdown",
   "metadata": {},
   "source": [
    "<p><i>Нулевая гипотеза - средние значения не отличаются.<br>Альтернативная гипотеза - средние значения отличаются.</i></p>\n",
    "<p>$$H_0: \\mu_{1}-\\mu_{2}=0$$<p>\n",
    "<p>$$H_A: \\mu_{1}-\\mu_{2} \\neq 0$$<p>\n",
    "<p><i>Так как нам не известна дисперсия генеральной совокупности, мы используем несмещенную выборочную; исследуемый нами признак имеет t-распределение.</i></p>\n",
    "\n",
    "#### Способ 1. Расчет вручную.\n",
    "\n",
    "<p><i>Расчет ведется по способу, предложенному <a href='http://www.kean.edu/~fosborne/bstat/07b2means.html'>здесь</a>, пункт \"Sampling from normally distributed populations with unknown variances\".</i></p>\n",
    "<p><i>Подсчет необходимых статистических значений:</i></p>"
   ]
  },
  {
   "cell_type": "code",
   "execution_count": 8,
   "metadata": {
    "collapsed": false
   },
   "outputs": [],
   "source": [
    "var_p = ((n_1-1)*(std_1**2)+(n_2-1)*(std_2**2))/(n_1+n_2-2)\n",
    "se = sqrt(var_p/n_1+var_p/n_2)\n",
    "df = (n_1+n_2-2)\n",
    "\n",
    "t = (mean_1-mean_2)/se\n",
    "pvalue = 2 * (stats.t.cdf(-abs(t), df=df))"
   ]
  },
  {
   "cell_type": "code",
   "execution_count": 9,
   "metadata": {
    "collapsed": false,
    "scrolled": true
   },
   "outputs": [
    {
     "name": "stdout",
     "output_type": "stream",
     "text": [
      "alpha <= p-value\n",
      "Принимаем нулевую гипотезу (не отказываемся от нулевой гипотезы)\n"
     ]
    }
   ],
   "source": [
    "def conclusion(alpha, pvalue):\n",
    "    if alpha > pvalue:\n",
    "        print(\"alpha > p-value\")\n",
    "        print(\"Отказываемся от нулевую гипотезы в пользу альтернативной\")\n",
    "    else:\n",
    "        print(\"alpha <= p-value\")\n",
    "        print(\"Принимаем нулевую гипотезу (не отказываемся от нулевой гипотезы)\")\n",
    "        \n",
    "conclusion(alpha, pvalue)"
   ]
  },
  {
   "cell_type": "markdown",
   "metadata": {},
   "source": [
    "#### Способ 2. Расчет с помощью stats.ttest*"
   ]
  },
  {
   "cell_type": "code",
   "execution_count": 16,
   "metadata": {
    "collapsed": false,
    "scrolled": false
   },
   "outputs": [
    {
     "name": "stdout",
     "output_type": "stream",
     "text": [
      "alpha <= p-value\n",
      "Принимаем нулевую гипотезу (не отказываемся от нулевой гипотезы)\n"
     ]
    }
   ],
   "source": [
    "tvalue, pvalue_t = stats.ttest_ind(company_1, company_2, equal_var=False)\n",
    "conclusion(alpha, pvalue_t)"
   ]
  },
  {
   "cell_type": "markdown",
   "metadata": {},
   "source": [
    "<p><i>Строим график:</i></p>"
   ]
  },
  {
   "cell_type": "code",
   "execution_count": 21,
   "metadata": {
    "collapsed": false,
    "scrolled": true
   },
   "outputs": [
    {
     "data": {
      "image/png": "[encoded data removed]",
      "text/plain": [
       "<matplotlib.figure.Figure at 0x249878b3d68>"
      ]
     },
     "metadata": {},
     "output_type": "display_data"
    }
   ],
   "source": [
    "#Предварительные параметры\n",
    "plt.figure(1, figsize=[15, 6])\n",
    "plt.xlim(-4, 4)\n",
    "\n",
    "#Строим критическую область\n",
    "sign_lev_pl = abs(stats.t.ppf(alpha/2, df=df))\n",
    "plt.axvline(-sign_lev_pl, lw=2, color=\"orange\", linestyle=\"--\")\n",
    "plt.axvline(sign_lev_pl, lw=2, color=\"orange\", linestyle=\"--\")\n",
    "\n",
    "#Строим область p-value\n",
    "p_val_pl = abs(stats.t.ppf(pvalue_t/2, df=df))\n",
    "plt.axvline(-p_val_pl, lw=2, color=\"green\", linestyle=\"-\")\n",
    "plt.axvline(p_val_pl, lw=2, color=\"green\", linestyle=\"-\")\n",
    "\n",
    "#Строим кривую t-распределения\n",
    "x = np.linspace(-4, 4, 1000)\n",
    "y = stats.t.pdf(x, df)\n",
    "plt.plot(x,y)\n",
    "\n",
    "#Наводим красоту (закрашиваем обоасти)\n",
    "plt.axvspan(sign_lev_pl, 4, color='y', alpha=0.2, lw=0)\n",
    "plt.axvspan(p_val_pl, 4, color='g', alpha=0.2, lw=0)\n",
    "plt.axvspan(-4, -sign_lev_pl, color='y', alpha=0.2, lw=0)\n",
    "plt.axvspan(-4, -p_val_pl, color='g', alpha=0.2, lw=0)\n",
    "\n",
    "#Обозначаем нашу статистику\n",
    "plt.axvline(tvalue, lw=5, color=\"r\")\n",
    "\n",
    "#Подписи\n",
    "plt.legend(['Уровень значимости (слева)', 'Уровень значимости (справа)', 'P-value (слева)', 'P-value (справа)', \n",
    "            't-распределение (%i)' % df, 'Наблюдаемая статистика'])\n",
    "\n",
    "plt.show()"
   ]
  },
  {
   "cell_type": "markdown",
   "metadata": {},
   "source": [
    "<p><b><i>Вариант 3</i></b></p>"
   ]
  },
  {
   "cell_type": "markdown",
   "metadata": {},
   "source": [
    "<p>После присоединения Криптона было решено сравнить среднюю стоимость бензина в его административном центре и в центральном федеральном округе (далее - ЦФО). Для этого случайно выбрали 50 заправок на Криптоне и 60 в ЦФО (значения приведены в файле oil_price_two_districts.csv). Используя данные выборок, отличается ли средняя цена на Криптоне и в ЦФО при уровне значимости 0.05, т.е. постройте и оцените нулевую гипотезу? Постройте график по данным выборки с указанием p-value и уровня значимости.</p>"
   ]
  },
  {
   "cell_type": "code",
   "execution_count": 18,
   "metadata": {
    "collapsed": true
   },
   "outputs": [],
   "source": [
    "#Ваш код"
   ]
  }
 ],
 "metadata": {
  "kernelspec": {
   "display_name": "Python 3",
   "language": "python",
   "name": "python3"
  },
  "language_info": {
   "codemirror_mode": {
    "name": "ipython",
    "version": 3
   },
   "file_extension": ".py",
   "mimetype": "text/x-python",
   "name": "python",
   "nbconvert_exporter": "python",
   "pygments_lexer": "ipython3",
   "version": "3.5.1"
  }
 },
 "nbformat": 4,
 "nbformat_minor": 0
}
