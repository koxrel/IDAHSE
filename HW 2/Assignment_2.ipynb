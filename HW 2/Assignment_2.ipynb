{
 "cells": [
  {
   "cell_type": "markdown",
   "metadata": {},
   "source": [
    "<div style=\"font-size:18pt; padding-top:20px; text-align:center\">ЗАДАНИЕ 2. <b>Линейная алгебра и </b> <span style=\"font-weight:bold; color:green\">NumPy</span></div><hr>\n",
    "<div style=\"text-align:right;\">Папулин С.Ю. <span style=\"font-style: italic;font-weight: bold;\">(papulin_hse@mail.ru)</span></div>"
   ]
  },
  {
   "cell_type": "markdown",
   "metadata": {},
   "source": [
    "<a name=\"0\"></a>\n",
    "<div><span style=\"font-size:14pt; font-weight:bold\">Содержание</span>\n",
    "    <ol>\n",
    "        <li><a href=\"#1\">Задание</a></li>\n",
    "        <li><a href=\"#2\">Варианты</a></li>\n",
    "    </ol>\n",
    "</div>"
   ]
  },
  {
   "cell_type": "markdown",
   "metadata": {},
   "source": [
    "<a name=\"1\"></a>\n",
    "<div style=\"display:table; width:100%; padding-top:10px; padding-bottom:10px; border-bottom:1px solid lightgrey\">\n",
    "    <div style=\"display:table-row\">\n",
    "        <div style=\"display:table-cell; width:80%; font-size:14pt; font-weight:bold\">1. Задание</div>\n",
    "    \t<div style=\"display:table-cell; width:20%; text-align:center; background-color:whitesmoke; border:1px solid lightgrey\"><a href=\"#0\">К содержанию</a></div>\n",
    "    </div>\n",
    "</div>"
   ]
  },
  {
   "cell_type": "markdown",
   "metadata": {},
   "source": [
    "<p>Необходимо написать код на стандартном python'е, т.е без использования дополнительных библиотек вроде numpy и пр. Всего 5 задач (максимум 13 баллов): 1-4 для всех, 5-ая в соотвествии с вариантом. Код для каждой задачи должен быть оформлен в виде функции.</p>"
   ]
  },
  {
   "cell_type": "markdown",
   "metadata": {},
   "source": [
    "<p><b>Задача 1.</b> Вычисление определителя матрицы 2x2 - 1 балл</p> "
   ]
  },
  {
   "cell_type": "code",
   "execution_count": 13,
   "metadata": {
    "collapsed": true
   },
   "outputs": [],
   "source": [
    "def det_matrix_2dim(matrix):\n",
    "    return matrix[0][0]*matrix[1][1]-matrix[0][1]*matrix[1][0]"
   ]
  },
  {
   "cell_type": "markdown",
   "metadata": {},
   "source": [
    "<p><b>Задача 2.</b> Вычисление определителя матрицы 3x3 - 2 балл</p>"
   ]
  },
  {
   "cell_type": "code",
   "execution_count": 14,
   "metadata": {
    "collapsed": true
   },
   "outputs": [],
   "source": [
    "def det_matrix_3dim(matrix):\n",
    "    main_prod = matrix[0][0]*matrix[1][1]*matrix[2][2]+matrix[0][1]*matrix[1][2]*matrix[2][0]+matrix[0][2]*matrix[1][0]*matrix[2][1]\n",
    "    sub_prod = matrix[2][0]*matrix[1][1]*matrix[0][2]+matrix[2][1]*matrix[1][2]*matrix[0][0]+matrix[2][2]*matrix[1][0]*matrix[0][1]\n",
    "    return main_prod-sub_prod"
   ]
  },
  {
   "cell_type": "markdown",
   "metadata": {},
   "source": [
    "<p><b>Задача 3.</b> Умножение матриц через внутреннее произведение векторов - 3 балла</p>"
   ]
  },
  {
   "cell_type": "code",
   "execution_count": 15,
   "metadata": {
    "collapsed": true
   },
   "outputs": [],
   "source": [
    "def matr_mult_inner_product(a, b):\n",
    "    zip_b = list(zip(*b))\n",
    "    return [[sum(ele_a*ele_b for ele_a, ele_b in zip(row_a, col_b)) for col_b in zip_b] for row_a in a]"
   ]
  },
  {
   "cell_type": "markdown",
   "metadata": {},
   "source": [
    "<p><b>Задача 4.</b> Умножение матриц через внешнее произведение векторов - 3 балла</p>"
   ]
  },
  {
   "cell_type": "markdown",
   "metadata": {},
   "source": [
    "По образу: <a href='https://en.wikipedia.org/wiki/Matrix_multiplication#Outer_product'>Wiki</a>"
   ]
  },
  {
   "cell_type": "code",
   "execution_count": 16,
   "metadata": {
    "collapsed": false,
    "scrolled": false
   },
   "outputs": [],
   "source": [
    "def matr_mult_outer_product(a,b):\n",
    "    k = (list(zip(list(zip(*a)),b)))\n",
    "    list_of_matrices_to_sum = [[[el_a*el_b for el_b in pair[1]] for el_a in pair[0]] for pair in k]\n",
    "    list_transposed = list(zip(*list_of_matrices_to_sum))\n",
    "    return [[sum(values[i] for values in rows_d) for i in range(len(rows_d[0]))] for rows_d in list_transposed]"
   ]
  },
  {
   "cell_type": "markdown",
   "metadata": {},
   "source": [
    "<p><b>Задача 5a.</b> Определение ранга матрицы <i>(вариант 1)</i> - 4 балла</p>"
   ]
  },
  {
   "cell_type": "code",
   "execution_count": 21,
   "metadata": {
    "collapsed": true
   },
   "outputs": [],
   "source": [
    "#Вариант 1\n",
    "#Ваш код"
   ]
  },
  {
   "cell_type": "markdown",
   "metadata": {},
   "source": [
    "<p><b>Задача 5b.</b> Вычисление определителя матрицы <i>(вариант 2)</i> - 4 балла</p>"
   ]
  },
  {
   "cell_type": "code",
   "execution_count": 22,
   "metadata": {
    "collapsed": true
   },
   "outputs": [],
   "source": [
    "#Вариант 2\n",
    "def matr_det(matrix):\n",
    "    n = len(matrix)\n",
    "    if n>2:\n",
    "        i=1\n",
    "        t=0\n",
    "        sum=0\n",
    "        while t<=n-1:\n",
    "            d={}\n",
    "            t1=1\n",
    "            while t1<=n-1:\n",
    "                m=0\n",
    "                d[t1]=[]\n",
    "                while m<=n-1:\n",
    "                    if (m==t):\n",
    "                        u=0\n",
    "                    else:\n",
    "                        d[t1].append(matrix[t1][m])\n",
    "                    m+=1\n",
    "                t1+=1\n",
    "            l1=[d[x] for x in d]\n",
    "            sum=sum+i*(matrix[0][t])*(matr_det(l1))\n",
    "            i=i*(-1)\n",
    "            t+=1\n",
    "        return sum\n",
    "    elif n==2:\n",
    "        return (matrix[0][0]*matrix[1][1]-matrix[0][1]*matrix[1][0])\n",
    "    else:\n",
    "        return matrix[0][0]"
   ]
  },
  {
   "cell_type": "markdown",
   "metadata": {},
   "source": [
    "<p><b>Задача 5c.</b> Вычисление обратной матрицы <i>(вариант 3)</i> - 4 балла</p>"
   ]
  },
  {
   "cell_type": "code",
   "execution_count": 24,
   "metadata": {
    "collapsed": true
   },
   "outputs": [],
   "source": [
    "#Вариант 3\n",
    "#Ваш код"
   ]
  },
  {
   "cell_type": "markdown",
   "metadata": {},
   "source": [
    "<a name=\"2\"></a>\n",
    "<div style=\"display:table; width:100%; padding-top:10px; padding-bottom:10px; border-bottom:1px solid lightgrey\">\n",
    "    <div style=\"display:table-row\">\n",
    "        <div style=\"display:table-cell; width:80%; font-size:14pt; font-weight:bold\">2. Варианты</div>\n",
    "    \t<div style=\"display:table-cell; width:20%; text-align:center; background-color:whitesmoke; border:1px solid lightgrey\"><a href=\"#0\">К содержанию</a></div>\n",
    "    </div>\n",
    "</div>"
   ]
  },
  {
   "cell_type": "markdown",
   "metadata": {},
   "source": [
    "<p>Чтобы узнать свой вариант, введите Вашу фамилию в соответвующее поле ниже и запустите ячейку:</p>"
   ]
  },
  {
   "cell_type": "code",
   "execution_count": 25,
   "metadata": {
    "collapsed": false
   },
   "outputs": [
    {
     "name": "stdout",
     "output_type": "stream",
     "text": [
      "Ваш вариант -  2\n"
     ]
    }
   ],
   "source": [
    "surname = \"Oops\" #Ваша фамилия\n",
    "\n",
    "alp = 'абвгдеёжзийклмнопрстуфхцчшщъыьэюя'\n",
    "w = [6, 31, 38, 29, 29, 20, 16,  4, 34,  3, 39, 33, 36, 33, 20,  3, 22,\n",
    "       31,  3, 34, 16, 25, 25, 25, 23, 13, 35, 19, 20, 26, 34, 39,  8]\n",
    "d = dict(zip(alp, w))\n",
    "variant =  sum([d[el] for el in surname.lower()]) % 3 + 1\n",
    "print(\"Ваш вариант - \", variant)"
   ]
  }
 ],
 "metadata": {
  "kernelspec": {
   "display_name": "Python 3",
   "language": "python",
   "name": "python3"
  },
  "language_info": {
   "codemirror_mode": {
    "name": "ipython",
    "version": 3
   },
   "file_extension": ".py",
   "mimetype": "text/x-python",
   "name": "python",
   "nbconvert_exporter": "python",
   "pygments_lexer": "ipython3",
   "version": "3.5.1"
  }
 },
 "nbformat": 4,
 "nbformat_minor": 0
}
