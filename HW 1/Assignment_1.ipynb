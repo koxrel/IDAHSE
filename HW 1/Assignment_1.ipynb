{
 "cells": [
  {
   "cell_type": "markdown",
   "metadata": {},
   "source": [
    "<div style=\"font-size:18pt; padding-top:20px; text-align:center\">ЗАДАНИЕ 1. <b>Введение в </b> <span style=\"font-weight:bold; color:green\">Pandas</span></div><hr>\n",
    "<div style=\"text-align:right;\">Папулин С.Ю. <span style=\"font-style: italic;font-weight: bold;\">(papulin_hse@mail.ru)</span></div>"
   ]
  },
  {
   "cell_type": "markdown",
   "metadata": {},
   "source": [
    "<a name=\"0\"></a>\n",
    "<div><span style=\"font-size:14pt; font-weight:bold\">Содержание</span>\n",
    "    <ol>\n",
    "        <li><a href=\"#1\">Расчет индекса реальной заработной платы</a></li>\n",
    "        <li><a href=\"#2\">Варианты</a></li>\n",
    "    </ol>\n",
    "</div>"
   ]
  },
  {
   "cell_type": "markdown",
   "metadata": {},
   "source": [
    "<a name=\"1\"></a>\n",
    "<div style=\"display:table; width:100%; padding-top:10px; padding-bottom:10px; border-bottom:1px solid lightgrey\">\n",
    "    <div style=\"display:table-row\">\n",
    "        <div style=\"display:table-cell; width:80%; font-size:14pt; font-weight:bold\">1. Расчет индекса реальной заработной платы</div>\n",
    "    \t<div style=\"display:table-cell; width:20%; text-align:center; background-color:whitesmoke; border:1px solid lightgrey\"><a href=\"#0\">К содержанию</a></div>\n",
    "    </div>\n",
    "</div>"
   ]
  },
  {
   "cell_type": "markdown",
   "metadata": {},
   "source": [
    "<p>Среднемесячная начисленная заработная плата (руб.) - $НЗП$<br>\n",
    "Среднемесячная начисленная заработная плата базового периода (руб.) - $НЗПБ$<br>\n",
    "Индекс номинальной заработной платы (%) - $И_{НЗП,\\%}$<br>\n",
    "Индекс потребительских цен (%) - $И_{ПЦ,\\%}$<br>\n",
    "Индекс реальной заработной платы (%) - $И_{РЗП,\\%}$</p>"
   ]
  },
  {
   "cell_type": "markdown",
   "metadata": {},
   "source": [
    "$$И_{НЗП,\\%}=\\frac{НЗП}{НЗПБ}\\cdot 100 $$"
   ]
  },
  {
   "cell_type": "markdown",
   "metadata": {},
   "source": [
    "$$И_{РЗП,\\%}=\\frac{И_{НЗП}}{И_{ПЦ}} \\cdot 100$$"
   ]
  },
  {
   "cell_type": "markdown",
   "metadata": {},
   "source": [
    "<a href = \"http://www.gks.ru/bgd/free/b00_24/isswww.exe/stg/d000/i000101r.htm\">Аналитическая основа, концепции, определения и классификации</a><br>\n",
    "<a href = \"http://www.gks.ru/bgd/free/B00_24/IssWWW.exe/Stg/d000/I000050R.HTM\">Динамика среднемесячной номинальной и реальной начисленной заработной платы (2014, 2015)</a>\n",
    "\n"
   ]
  },
  {
   "cell_type": "markdown",
   "metadata": {},
   "source": [
    "<p><b>Пример</b> расчета $И_{РЗП}$ за 2014 год</p>"
   ]
  },
  {
   "cell_type": "markdown",
   "metadata": {},
   "source": [
    "$$НЗП_{2014} = 32495 руб.$$"
   ]
  },
  {
   "cell_type": "markdown",
   "metadata": {},
   "source": [
    "$$НЗПБ_{2013} = 29792 руб.$$"
   ]
  },
  {
   "cell_type": "markdown",
   "metadata": {},
   "source": [
    "$$И_{ПЦ,2014,\\%}=107.82$$"
   ]
  },
  {
   "cell_type": "markdown",
   "metadata": {},
   "source": [
    "$$И_{НЗП,2014,\\%}=\\frac{НЗП_{2014}}{НЗПБ_{2013}} \\cdot 100= 109.07$$"
   ]
  },
  {
   "cell_type": "markdown",
   "metadata": {},
   "source": [
    "$$И_{РЗП,2014}=\\frac{И_{НЗП,2014,\\%}}{И_{ПЦ,2014,\\%}}\\cdot 100=101.16$$"
   ]
  },
  {
   "cell_type": "markdown",
   "metadata": {},
   "source": [
    "Реальная заработная плата в 2014 году изменилась по отношению к 2013 году на \n",
    "$$\\bigtriangleup И_{РЗП,2014} = И_{РЗП,2014} - 100 = +1.16\\%$$"
   ]
  },
  {
   "cell_type": "code",
   "execution_count": 28,
   "metadata": {
    "collapsed": false
   },
   "outputs": [
    {
     "data": {
      "text/plain": [
       "1.1620343887782383"
      ]
     },
     "execution_count": 28,
     "metadata": {},
     "output_type": "execute_result"
    }
   ],
   "source": [
    "nom_salary_2014 = 32495\n",
    "nom_salary_base_2013 = 29792\n",
    "i_price_2014 = 107.82 / 100\n",
    "i_nom_salary = nom_salary_2014 / nom_salary_base_2013\n",
    "i_real_salary_2014 = i_nom_salary / i_price_2014 * 100\n",
    "dif = i_real_salary_2014 - 100\n",
    "dif"
   ]
  },
  {
   "cell_type": "markdown",
   "metadata": {},
   "source": [
    "<p><b>Подготовка</b></p>"
   ]
  },
  {
   "cell_type": "markdown",
   "metadata": {},
   "source": [
    "<p>Подключение пакета pandas</p>"
   ]
  },
  {
   "cell_type": "code",
   "execution_count": 29,
   "metadata": {
    "collapsed": false
   },
   "outputs": [],
   "source": [
    "import pandas as pnd\n",
    "import matplotlib as pl\n",
    "%matplotlib inline"
   ]
  },
  {
   "cell_type": "markdown",
   "metadata": {},
   "source": [
    "<p>Создание DataFrame из Excel файла</p>"
   ]
  },
  {
   "cell_type": "code",
   "execution_count": 30,
   "metadata": {
    "collapsed": false,
    "scrolled": true
   },
   "outputs": [],
   "source": [
    "filePath = r\"pathForExcelFile/YourFile.xls\"\n",
    "\n",
    "#Создание DataFrame из Excel файла\n",
    "#header=n - номер строка с названиями столбцов\n",
    "#skiprows=n - при чтении файла пропускаются первые n строк \n",
    "# df = pnd.read_excel(filePath, header=1, skiprows=10)\n",
    "# df"
   ]
  },
  {
   "cell_type": "markdown",
   "metadata": {},
   "source": [
    "<p>Набор данных</p>"
   ]
  },
  {
   "cell_type": "code",
   "execution_count": 31,
   "metadata": {
    "collapsed": true
   },
   "outputs": [],
   "source": [
    "#V1_Index_Price_By_Year.xls - excel-файл с индексами потребительских цен\n",
    "#V1_Nom_Salary_By_Regions.xlsx -  excel-файл со среднемесячной начисленной заработной платой"
   ]
  },
  {
   "cell_type": "markdown",
   "metadata": {},
   "source": [
    "<p><b>Задача 1.</b> Найти индексы номинальной заработной платы, построить график измененения индекса в процентах (год-измение индекса в %) </p>"
   ]
  },
  {
   "cell_type": "markdown",
   "metadata": {},
   "source": [
    "<div style=\"color:green\">DataFrame со значениями</div>"
   ]
  },
  {
   "cell_type": "code",
   "execution_count": 32,
   "metadata": {
    "collapsed": false
   },
   "outputs": [
    {
     "data": {
      "text/html": [
       "<div>\n",
       "<table border=\"1\" class=\"dataframe\">\n",
       "  <thead>\n",
       "    <tr style=\"text-align: right;\">\n",
       "      <th></th>\n",
       "      <th>Nominal Wage Index</th>\n",
       "    </tr>\n",
       "  </thead>\n",
       "  <tbody>\n",
       "    <tr>\n",
       "      <th>2003</th>\n",
       "      <td>100.000000</td>\n",
       "    </tr>\n",
       "    <tr>\n",
       "      <th>2004</th>\n",
       "      <td>123.898311</td>\n",
       "    </tr>\n",
       "    <tr>\n",
       "      <th>2005</th>\n",
       "      <td>132.234790</td>\n",
       "    </tr>\n",
       "    <tr>\n",
       "      <th>2006</th>\n",
       "      <td>125.936935</td>\n",
       "    </tr>\n",
       "    <tr>\n",
       "      <th>2007</th>\n",
       "      <td>131.023982</td>\n",
       "    </tr>\n",
       "    <tr>\n",
       "      <th>2008</th>\n",
       "      <td>130.163699</td>\n",
       "    </tr>\n",
       "    <tr>\n",
       "      <th>2009</th>\n",
       "      <td>108.414426</td>\n",
       "    </tr>\n",
       "    <tr>\n",
       "      <th>2010</th>\n",
       "      <td>113.266472</td>\n",
       "    </tr>\n",
       "    <tr>\n",
       "      <th>2011</th>\n",
       "      <td>112.107468</td>\n",
       "    </tr>\n",
       "    <tr>\n",
       "      <th>2012</th>\n",
       "      <td>113.134899</td>\n",
       "    </tr>\n",
       "    <tr>\n",
       "      <th>2013</th>\n",
       "      <td>112.509398</td>\n",
       "    </tr>\n",
       "    <tr>\n",
       "      <th>2014</th>\n",
       "      <td>110.307214</td>\n",
       "    </tr>\n",
       "  </tbody>\n",
       "</table>\n",
       "</div>"
      ],
      "text/plain": [
       "      Nominal Wage Index\n",
       "2003          100.000000\n",
       "2004          123.898311\n",
       "2005          132.234790\n",
       "2006          125.936935\n",
       "2007          131.023982\n",
       "2008          130.163699\n",
       "2009          108.414426\n",
       "2010          113.266472\n",
       "2011          112.107468\n",
       "2012          113.134899\n",
       "2013          112.509398\n",
       "2014          110.307214"
      ]
     },
     "execution_count": 32,
     "metadata": {},
     "output_type": "execute_result"
    }
   ],
   "source": [
    "serSalaries = ((pnd.read_excel(\"V1_Nom_Salary_By_Regions.xlsx\", header=0, skiprows=4)).loc[1])[1:]\n",
    "serNomInd = serSalaries[3:].pct_change().fillna(0)*100+100\n",
    "serNomInd.name = 'Nominal Wage Index'\n",
    "dfResult1 = serNomInd.to_frame()\n",
    "dfResult1"
   ]
  },
  {
   "cell_type": "markdown",
   "metadata": {},
   "source": [
    "<div style=\"color:green\">График изменения значений в процентах</div>"
   ]
  },
  {
   "cell_type": "code",
   "execution_count": 33,
   "metadata": {
    "collapsed": false
   },
   "outputs": [
    {
     "data": {
      "text/plain": [
       "<matplotlib.axes._subplots.AxesSubplot at 0x1331c09df60>"
      ]
     },
     "execution_count": 33,
     "metadata": {},
     "output_type": "execute_result"
    },
    {
     "data": {
      "image/png": "[encoded data removed]",
      "text/plain": [
       "<matplotlib.figure.Figure at 0x1331c011160>"
      ]
     },
     "metadata": {},
     "output_type": "display_data"
    }
   ],
   "source": [
    "# dfResult1Plot = (dfResult1.pct_change().fillna(0)*100)\n",
    "dfResult1Plot = (dfResult1-100)\n",
    "dfResult1Plot.columns = ['Nominal Wage Index (change in %)']\n",
    "dfResult1Plot.plot()"
   ]
  },
  {
   "cell_type": "markdown",
   "metadata": {},
   "source": [
    "<p><b>Задача 2.</b> Построить график измененения индекса потребительских цен в процентах (год-измение индекса в %) </p>"
   ]
  },
  {
   "cell_type": "code",
   "execution_count": 34,
   "metadata": {
    "collapsed": false
   },
   "outputs": [],
   "source": [
    "def float_from_str_with_comma(str_float):\n",
    "    return float(str_float.replace(',', '.'))"
   ]
  },
  {
   "cell_type": "markdown",
   "metadata": {},
   "source": [
    "<div style=\"color:green\">DataFrame со значениями</div>"
   ]
  },
  {
   "cell_type": "code",
   "execution_count": 35,
   "metadata": {
    "collapsed": false
   },
   "outputs": [
    {
     "data": {
      "text/html": [
       "<div>\n",
       "<table border=\"1\" class=\"dataframe\">\n",
       "  <thead>\n",
       "    <tr style=\"text-align: right;\">\n",
       "      <th></th>\n",
       "      <th>Consumer Prices Index</th>\n",
       "    </tr>\n",
       "  </thead>\n",
       "  <tbody>\n",
       "    <tr>\n",
       "      <th>2003</th>\n",
       "      <td>100.00</td>\n",
       "    </tr>\n",
       "    <tr>\n",
       "      <th>2004</th>\n",
       "      <td>100.00</td>\n",
       "    </tr>\n",
       "    <tr>\n",
       "      <th>2005</th>\n",
       "      <td>100.00</td>\n",
       "    </tr>\n",
       "    <tr>\n",
       "      <th>2006</th>\n",
       "      <td>109.44</td>\n",
       "    </tr>\n",
       "    <tr>\n",
       "      <th>2007</th>\n",
       "      <td>109.20</td>\n",
       "    </tr>\n",
       "    <tr>\n",
       "      <th>2008</th>\n",
       "      <td>113.99</td>\n",
       "    </tr>\n",
       "    <tr>\n",
       "      <th>2009</th>\n",
       "      <td>112.25</td>\n",
       "    </tr>\n",
       "    <tr>\n",
       "      <th>2010</th>\n",
       "      <td>107.03</td>\n",
       "    </tr>\n",
       "    <tr>\n",
       "      <th>2011</th>\n",
       "      <td>108.40</td>\n",
       "    </tr>\n",
       "    <tr>\n",
       "      <th>2012</th>\n",
       "      <td>105.33</td>\n",
       "    </tr>\n",
       "    <tr>\n",
       "      <th>2013</th>\n",
       "      <td>106.89</td>\n",
       "    </tr>\n",
       "    <tr>\n",
       "      <th>2014</th>\n",
       "      <td>108.35</td>\n",
       "    </tr>\n",
       "  </tbody>\n",
       "</table>\n",
       "</div>"
      ],
      "text/plain": [
       "      Consumer Prices Index\n",
       "2003                 100.00\n",
       "2004                 100.00\n",
       "2005                 100.00\n",
       "2006                 109.44\n",
       "2007                 109.20\n",
       "2008                 113.99\n",
       "2009                 112.25\n",
       "2010                 107.03\n",
       "2011                 108.40\n",
       "2012                 105.33\n",
       "2013                 106.89\n",
       "2014                 108.35"
      ]
     },
     "execution_count": 35,
     "metadata": {},
     "output_type": "execute_result"
    }
   ],
   "source": [
    "serCPI = (pnd.read_excel(\"V1_Index_Price_By_Year.xls\", skiprows=1)).iloc[32][2:].fillna('100,0')\n",
    "serCPI = serCPI.apply(float_from_str_with_comma)\n",
    "serCPI.name = 'Consumer Prices Index'\n",
    "dfResult2 = serCPI[:-1].to_frame()\n",
    "dfResult2"
   ]
  },
  {
   "cell_type": "markdown",
   "metadata": {},
   "source": [
    "<div style=\"color:green\">График изменения значений в процентах</div>"
   ]
  },
  {
   "cell_type": "code",
   "execution_count": 36,
   "metadata": {
    "collapsed": false
   },
   "outputs": [
    {
     "data": {
      "text/plain": [
       "<matplotlib.axes._subplots.AxesSubplot at 0x133189a7400>"
      ]
     },
     "execution_count": 36,
     "metadata": {},
     "output_type": "execute_result"
    },
    {
     "data": {
      "image/png": "[encoded data removed]",
      "text/plain": [
       "<matplotlib.figure.Figure at 0x1331c071eb8>"
      ]
     },
     "metadata": {},
     "output_type": "display_data"
    }
   ],
   "source": [
    "# dfResult2Plot = (dfResult2.pct_change().fillna(0)*100)\n",
    "dfResult2Plot = (dfResult2-100)\n",
    "dfResult2Plot.columns = ['Consumer Prices Index (change in %)']\n",
    "dfResult2Plot.plot()"
   ]
  },
  {
   "cell_type": "markdown",
   "metadata": {},
   "source": [
    "<p><span style=\"color:red; font-weight:bold\">ВАЖНО!</span> В расчетах используйте следующий показатель: <i>период с начала отчетного года в % к соответствующему периоду предыдущего года </i>\n",
    "</p>"
   ]
  },
  {
   "cell_type": "markdown",
   "metadata": {},
   "source": [
    "<p><b>Задача 3.</b> Найти индексы реальной заработной платы, построить график измененения индекса в процентах (год-измение индекса в %) </p>"
   ]
  },
  {
   "cell_type": "markdown",
   "metadata": {},
   "source": [
    "<div style=\"color:green\">DataFrame со значениями</div>"
   ]
  },
  {
   "cell_type": "code",
   "execution_count": 37,
   "metadata": {
    "collapsed": false
   },
   "outputs": [
    {
     "data": {
      "text/html": [
       "<div>\n",
       "<table border=\"1\" class=\"dataframe\">\n",
       "  <thead>\n",
       "    <tr style=\"text-align: right;\">\n",
       "      <th></th>\n",
       "      <th>Real Wage Index</th>\n",
       "    </tr>\n",
       "  </thead>\n",
       "  <tbody>\n",
       "    <tr>\n",
       "      <th>2003</th>\n",
       "      <td>100.000000</td>\n",
       "    </tr>\n",
       "    <tr>\n",
       "      <th>2004</th>\n",
       "      <td>123.898311</td>\n",
       "    </tr>\n",
       "    <tr>\n",
       "      <th>2005</th>\n",
       "      <td>132.234790</td>\n",
       "    </tr>\n",
       "    <tr>\n",
       "      <th>2006</th>\n",
       "      <td>115.073954</td>\n",
       "    </tr>\n",
       "    <tr>\n",
       "      <th>2007</th>\n",
       "      <td>119.985332</td>\n",
       "    </tr>\n",
       "    <tr>\n",
       "      <th>2008</th>\n",
       "      <td>114.188700</td>\n",
       "    </tr>\n",
       "    <tr>\n",
       "      <th>2009</th>\n",
       "      <td>96.583007</td>\n",
       "    </tr>\n",
       "    <tr>\n",
       "      <th>2010</th>\n",
       "      <td>105.826845</td>\n",
       "    </tr>\n",
       "    <tr>\n",
       "      <th>2011</th>\n",
       "      <td>103.420173</td>\n",
       "    </tr>\n",
       "    <tr>\n",
       "      <th>2012</th>\n",
       "      <td>107.409949</td>\n",
       "    </tr>\n",
       "    <tr>\n",
       "      <th>2013</th>\n",
       "      <td>105.257179</td>\n",
       "    </tr>\n",
       "    <tr>\n",
       "      <th>2014</th>\n",
       "      <td>101.806382</td>\n",
       "    </tr>\n",
       "  </tbody>\n",
       "</table>\n",
       "</div>"
      ],
      "text/plain": [
       "      Real Wage Index\n",
       "2003       100.000000\n",
       "2004       123.898311\n",
       "2005       132.234790\n",
       "2006       115.073954\n",
       "2007       119.985332\n",
       "2008       114.188700\n",
       "2009        96.583007\n",
       "2010       105.826845\n",
       "2011       103.420173\n",
       "2012       107.409949\n",
       "2013       105.257179\n",
       "2014       101.806382"
      ]
     },
     "execution_count": 37,
     "metadata": {},
     "output_type": "execute_result"
    }
   ],
   "source": [
    "serReal = dfResult1['Nominal Wage Index']/dfResult2['Consumer Prices Index']*100\n",
    "serReal.name='Real Wage Index'\n",
    "dfResult3 = serReal.to_frame()\n",
    "dfResult3"
   ]
  },
  {
   "cell_type": "markdown",
   "metadata": {},
   "source": [
    "<div style=\"color:green\">График изменения значений в процентах</div>"
   ]
  },
  {
   "cell_type": "code",
   "execution_count": 38,
   "metadata": {
    "collapsed": false
   },
   "outputs": [
    {
     "data": {
      "text/plain": [
       "<matplotlib.axes._subplots.AxesSubplot at 0x1331c0cc6d8>"
      ]
     },
     "execution_count": 38,
     "metadata": {},
     "output_type": "execute_result"
    },
    {
     "data": {
      "image/png": "[encoded data removed]",
      "text/plain": [
       "<matplotlib.figure.Figure at 0x1331c11e588>"
      ]
     },
     "metadata": {},
     "output_type": "display_data"
    }
   ],
   "source": [
    "# dfResult3Plot = (dfResult3.pct_change().fillna(0)*100)\n",
    "dfResult3Plot = (dfResult3-100)\n",
    "dfResult3Plot.columns = ['Real Wage Index (change in %)']\n",
    "dfResult3Plot.plot()"
   ]
  },
  {
   "cell_type": "markdown",
   "metadata": {},
   "source": [
    "<p><b>Задача 4.</b> Отобразить все три индекса на одном графике</p>"
   ]
  },
  {
   "cell_type": "markdown",
   "metadata": {},
   "source": [
    "<div style=\"color:green\">DataFrame со значениями</div>"
   ]
  },
  {
   "cell_type": "code",
   "execution_count": 39,
   "metadata": {
    "collapsed": false
   },
   "outputs": [
    {
     "data": {
      "text/html": [
       "<div>\n",
       "<table border=\"1\" class=\"dataframe\">\n",
       "  <thead>\n",
       "    <tr style=\"text-align: right;\">\n",
       "      <th></th>\n",
       "      <th>Nominal Wage Index</th>\n",
       "      <th>Consumer Prices Index</th>\n",
       "      <th>Real Wage Index</th>\n",
       "    </tr>\n",
       "  </thead>\n",
       "  <tbody>\n",
       "    <tr>\n",
       "      <th>2003</th>\n",
       "      <td>100.000000</td>\n",
       "      <td>100.00</td>\n",
       "      <td>100.000000</td>\n",
       "    </tr>\n",
       "    <tr>\n",
       "      <th>2004</th>\n",
       "      <td>123.898311</td>\n",
       "      <td>100.00</td>\n",
       "      <td>123.898311</td>\n",
       "    </tr>\n",
       "    <tr>\n",
       "      <th>2005</th>\n",
       "      <td>132.234790</td>\n",
       "      <td>100.00</td>\n",
       "      <td>132.234790</td>\n",
       "    </tr>\n",
       "    <tr>\n",
       "      <th>2006</th>\n",
       "      <td>125.936935</td>\n",
       "      <td>109.44</td>\n",
       "      <td>115.073954</td>\n",
       "    </tr>\n",
       "    <tr>\n",
       "      <th>2007</th>\n",
       "      <td>131.023982</td>\n",
       "      <td>109.20</td>\n",
       "      <td>119.985332</td>\n",
       "    </tr>\n",
       "    <tr>\n",
       "      <th>2008</th>\n",
       "      <td>130.163699</td>\n",
       "      <td>113.99</td>\n",
       "      <td>114.188700</td>\n",
       "    </tr>\n",
       "    <tr>\n",
       "      <th>2009</th>\n",
       "      <td>108.414426</td>\n",
       "      <td>112.25</td>\n",
       "      <td>96.583007</td>\n",
       "    </tr>\n",
       "    <tr>\n",
       "      <th>2010</th>\n",
       "      <td>113.266472</td>\n",
       "      <td>107.03</td>\n",
       "      <td>105.826845</td>\n",
       "    </tr>\n",
       "    <tr>\n",
       "      <th>2011</th>\n",
       "      <td>112.107468</td>\n",
       "      <td>108.40</td>\n",
       "      <td>103.420173</td>\n",
       "    </tr>\n",
       "    <tr>\n",
       "      <th>2012</th>\n",
       "      <td>113.134899</td>\n",
       "      <td>105.33</td>\n",
       "      <td>107.409949</td>\n",
       "    </tr>\n",
       "    <tr>\n",
       "      <th>2013</th>\n",
       "      <td>112.509398</td>\n",
       "      <td>106.89</td>\n",
       "      <td>105.257179</td>\n",
       "    </tr>\n",
       "    <tr>\n",
       "      <th>2014</th>\n",
       "      <td>110.307214</td>\n",
       "      <td>108.35</td>\n",
       "      <td>101.806382</td>\n",
       "    </tr>\n",
       "  </tbody>\n",
       "</table>\n",
       "</div>"
      ],
      "text/plain": [
       "      Nominal Wage Index  Consumer Prices Index  Real Wage Index\n",
       "2003          100.000000                 100.00       100.000000\n",
       "2004          123.898311                 100.00       123.898311\n",
       "2005          132.234790                 100.00       132.234790\n",
       "2006          125.936935                 109.44       115.073954\n",
       "2007          131.023982                 109.20       119.985332\n",
       "2008          130.163699                 113.99       114.188700\n",
       "2009          108.414426                 112.25        96.583007\n",
       "2010          113.266472                 107.03       105.826845\n",
       "2011          112.107468                 108.40       103.420173\n",
       "2012          113.134899                 105.33       107.409949\n",
       "2013          112.509398                 106.89       105.257179\n",
       "2014          110.307214                 108.35       101.806382"
      ]
     },
     "execution_count": 39,
     "metadata": {},
     "output_type": "execute_result"
    }
   ],
   "source": [
    "dfResult4 = pnd.concat([dfResult1, dfResult2, dfResult3], axis=1)\n",
    "dfResult4"
   ]
  },
  {
   "cell_type": "markdown",
   "metadata": {},
   "source": [
    "<div style=\"color:green\">График изменения значений в процентах</div>"
   ]
  },
  {
   "cell_type": "code",
   "execution_count": 40,
   "metadata": {
    "collapsed": false
   },
   "outputs": [
    {
     "data": {
      "text/plain": [
       "<matplotlib.axes._subplots.AxesSubplot at 0x1331c148240>"
      ]
     },
     "execution_count": 40,
     "metadata": {},
     "output_type": "execute_result"
    },
    {
     "data": {
      "image/png": "[encoded data removed]",
      "text/plain": [
       "<matplotlib.figure.Figure at 0x1331c16e160>"
      ]
     },
     "metadata": {},
     "output_type": "display_data"
    }
   ],
   "source": [
    "# dfResult4Plot = (dfResult4.pct_change().fillna(0)*100)\n",
    "dfResult4Plot = (dfResult4-100)\n",
    "dfResult4Plot.columns = ['Nominal Wage Index (change in %)','Consumer Prices Index (change in %)','Real Wage Index (change in %)']\n",
    "dfResult4Plot.plot()"
   ]
  },
  {
   "cell_type": "markdown",
   "metadata": {},
   "source": [
    "<a name=\"2\"></a>\n",
    "<div style=\"display:table; width:100%; padding-top:10px; padding-bottom:10px; border-bottom:1px solid lightgrey\">\n",
    "    <div style=\"display:table-row\">\n",
    "        <div style=\"display:table-cell; width:80%; font-size:14pt; font-weight:bold\">2. Варианты</div>\n",
    "    \t<div style=\"display:table-cell; width:20%; text-align:center; background-color:whitesmoke; border:1px solid lightgrey\"><a href=\"#0\">К содержанию</a></div>\n",
    "    </div>\n",
    "</div>"
   ]
  },
  {
   "cell_type": "markdown",
   "metadata": {},
   "source": [
    "<p>Чтобы узнать свой вариант, введите Вашу фамилию в соответвующее поле ниже и запустите ячейку:</p>"
   ]
  },
  {
   "cell_type": "code",
   "execution_count": 41,
   "metadata": {
    "collapsed": false
   },
   "outputs": [
    {
     "name": "stdout",
     "output_type": "stream",
     "text": [
      "Ваш вариант -  2\n"
     ]
    }
   ],
   "source": [
    "surname = \"Ooops\" #Ваша фамилия\n",
    "\n",
    "alp = 'абвгдеёжзийклмнопрстуфхцчшщъыьэюя'\n",
    "w = [6, 31, 38, 29, 29, 20, 16,  4, 34,  3, 39, 33, 36, 33, 20,  3, 22,\n",
    "       31,  3, 34, 16, 25, 25, 25, 23, 13, 35, 19, 20, 26, 34, 39,  8]\n",
    "d = dict(zip(alp, w))\n",
    "variant =  sum([d[el] for el in surname.lower()]) % 9 + 1\n",
    "print(\"Ваш вариант - \", variant)"
   ]
  },
  {
   "cell_type": "markdown",
   "metadata": {
    "collapsed": true
   },
   "source": [
    "<p>Задание необходимо выполнить в соответствии с вариантом. Соотнесение вариантов и округов, субъектов РФ для расчета следующее:<br>\n",
    "<ol>\n",
    "<li>Российская Федерация</li>\n",
    "<li>Центральный федеральный округ</li>\n",
    "<li>г.Москва</li>\n",
    "<li>Северо-Западный федеральный округ</li>\n",
    "<li>Северо-Кавказский федеральный округ</li>\n",
    "<li>Приволжский федеральный округ</li>\n",
    "<li>Ханты-Мансийский автономный округ-Югра</li>\n",
    "<li>Сибирский федеральный округ</li>\n",
    "<li>Дальневосточный федеральный округ</li>\n",
    "</ol>\n",
    "</p>"
   ]
  }
 ],
 "metadata": {
  "kernelspec": {
   "display_name": "Python 3",
   "language": "python",
   "name": "python3"
  },
  "language_info": {
   "codemirror_mode": {
    "name": "ipython",
    "version": 3
   },
   "file_extension": ".py",
   "mimetype": "text/x-python",
   "name": "python",
   "nbconvert_exporter": "python",
   "pygments_lexer": "ipython3",
   "version": "3.5.1"
  }
 },
 "nbformat": 4,
 "nbformat_minor": 0
}
